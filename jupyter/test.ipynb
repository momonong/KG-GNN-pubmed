{
 "cells": [
  {
   "cell_type": "code",
   "execution_count": 1,
   "metadata": {},
   "outputs": [
    {
     "name": "stdout",
     "output_type": "stream",
     "text": [
      "Alterations alteration NOUN\n",
      "in in ADP\n",
      "the the DET\n",
      "hypocretin hypocretin NOUN\n",
      "receptor receptor NOUN\n",
      "2 2 NUM\n",
      "and and CCONJ\n",
      "preprohypocretin preprohypocretin NOUN\n",
      "genes gene NOUN\n",
      "produce produce VERB\n",
      "narcolepsy narcolepsy NOUN\n",
      "in in ADP\n",
      "some some DET\n",
      "animals animal NOUN\n",
      ". . PUNCT\n"
     ]
    },
    {
     "name": "stderr",
     "output_type": "stream",
     "text": [
      "/Users/morris/projects/KG-GNN-pubmed/.venv/lib/python3.11/site-packages/spacy/language.py:2195: FutureWarning: Possible set union at position 6328\n",
      "  deserializers[\"tokenizer\"] = lambda p: self.tokenizer.from_disk(  # type: ignore[union-attr]\n"
     ]
    }
   ],
   "source": [
    "import spacy\n",
    "\n",
    "nlp = spacy.load(\"en_core_sci_sm\")\n",
    "doc = nlp(\"Alterations in the hypocretin receptor 2 and preprohypocretin genes produce narcolepsy in some animals.\")\n",
    "for token in doc:\n",
    "    print(token.text, token.lemma_, token.pos_)"
   ]
  },
  {
   "cell_type": "code",
   "execution_count": null,
   "metadata": {},
   "outputs": [],
   "source": [
    "import pickle\n",
    "import networkx as nx\n",
    "import matplotlib.pyplot as plt\n",
    "\n",
    "# 讀取圖檔\n",
    "with open(\"../data/graphs_nx/23210975.gpickle\", \"rb\") as f:\n",
    "    G = pickle.load(f)\n",
    "\n",
    "# 畫圖（用優化 spring layout）\n",
    "plt.figure(figsize=(14, 12))\n",
    "pos = nx.spring_layout(G, seed=42, k=4, iterations=200)\n",
    "\n",
    "# 畫節點\n",
    "nx.draw_networkx_nodes(G, pos, node_size=400, node_color=\"lightblue\")\n",
    "\n",
    "# 畫邊\n",
    "nx.draw_networkx_edges(G, pos, width=1.0, edge_color=\"gray\", alpha=0.6)\n",
    "\n",
    "# 畫標籤\n",
    "nx.draw_networkx_labels(G, pos, font_size=10)\n",
    "\n",
    "plt.title(\"Semantic Graph for PMID 23210975\", fontsize=14)\n",
    "plt.axis(\"off\")\n",
    "plt.tight_layout()\n",
    "plt.show()\n"
   ]
  },
  {
   "cell_type": "code",
   "execution_count": 2,
   "metadata": {},
   "outputs": [
    {
     "name": "stdout",
     "output_type": "stream",
     "text": [
      "✔️ 圖類型: <class 'networkx.classes.graph.Graph'>\n",
      "🔢 節點數: 0\n",
      "🔗 邊數: 0\n"
     ]
    }
   ],
   "source": [
    "import pickle\n",
    "import networkx as nx\n",
    "\n",
    "path = \"../data/graphs_pmi/train/27901430.gpickle\"\n",
    "\n",
    "with open(path, \"rb\") as f:\n",
    "    G = pickle.load(f)\n",
    "\n",
    "print(f\"✔️ 圖類型: {type(G)}\")\n",
    "print(f\"🔢 節點數: {len(G.nodes)}\")\n",
    "print(f\"🔗 邊數: {len(G.edges)}\")\n",
    "\n",
    "# 檢查第一些條邊的內容\n",
    "for i, (u, v, d) in enumerate(G.edges(data=True)):\n",
    "    print(f\"{i}: {u} -- {v} | data: {d}\")\n",
    "    if i >= 5: break"
   ]
  },
  {
   "cell_type": "code",
   "execution_count": 4,
   "metadata": {},
   "outputs": [
    {
     "name": "stderr",
     "output_type": "stream",
     "text": [
      "100%|██████████| 2268/2268 [00:00<00:00, 12450.94it/s]"
     ]
    },
    {
     "name": "stdout",
     "output_type": "stream",
     "text": [
      "====== PubMed Graph Dataset 統計報告 ======\n",
      "📦 總圖數：2268\n",
      "🪫 空圖（節點或邊為 0）：93\n",
      "⚠️ 節點數 ≤ 1 的圖：0\n",
      "📈 節點數 - 平均: 26.71 | 中位數: 27.0 | 最大: 172 | 最小: 0\n",
      "📉 邊數   - 平均: 404.39 | 中位數: 338.0 | 最大: 14378 | 最小: 0\n",
      "\n",
      "✅ 完成\n"
     ]
    },
    {
     "name": "stderr",
     "output_type": "stream",
     "text": [
      "\n"
     ]
    }
   ],
   "source": [
    "import os\n",
    "import pickle\n",
    "import networkx as nx\n",
    "from pathlib import Path\n",
    "import numpy as np\n",
    "from tqdm import tqdm\n",
    "\n",
    "GRAPH_DIR = \"../data/graphs_pmi/train\"  # 修改為你的路徑\n",
    "\n",
    "def analyze_graphs(graph_dir):\n",
    "    stats = {\n",
    "        \"num_graphs\": 0,\n",
    "        \"node_counts\": [],\n",
    "        \"edge_counts\": [],\n",
    "        \"empty_graphs\": [],\n",
    "        \"tiny_graphs\": [],\n",
    "    }\n",
    "\n",
    "    for path in tqdm(list(Path(graph_dir).glob(\"*.gpickle\"))):\n",
    "        try:\n",
    "            with open(path, \"rb\") as f:\n",
    "                G = pickle.load(f)\n",
    "            if not isinstance(G, nx.Graph):\n",
    "                continue\n",
    "\n",
    "            num_nodes = G.number_of_nodes()\n",
    "            num_edges = G.number_of_edges()\n",
    "\n",
    "            stats[\"num_graphs\"] += 1\n",
    "            stats[\"node_counts\"].append(num_nodes)\n",
    "            stats[\"edge_counts\"].append(num_edges)\n",
    "\n",
    "            if num_nodes == 0 or num_edges == 0:\n",
    "                stats[\"empty_graphs\"].append(path.name)\n",
    "            elif num_nodes <= 1:\n",
    "                stats[\"tiny_graphs\"].append(path.name)\n",
    "\n",
    "        except Exception as e:\n",
    "            print(f\"[錯誤] 讀取失敗 {path.name}: {e}\")\n",
    "\n",
    "    return stats\n",
    "\n",
    "\n",
    "def summarize(stats):\n",
    "    print(\"====== PubMed Graph Dataset 統計報告 ======\")\n",
    "    print(f\"📦 總圖數：{stats['num_graphs']}\")\n",
    "    print(f\"🪫 空圖（節點或邊為 0）：{len(stats['empty_graphs'])}\")\n",
    "    print(f\"⚠️ 節點數 ≤ 1 的圖：{len(stats['tiny_graphs'])}\")\n",
    "\n",
    "    if stats[\"node_counts\"]:\n",
    "        print(f\"📈 節點數 - 平均: {np.mean(stats['node_counts']):.2f} | 中位數: {np.median(stats['node_counts'])} | 最大: {np.max(stats['node_counts'])} | 最小: {np.min(stats['node_counts'])}\")\n",
    "    if stats[\"edge_counts\"]:\n",
    "        print(f\"📉 邊數   - 平均: {np.mean(stats['edge_counts']):.2f} | 中位數: {np.median(stats['edge_counts'])} | 最大: {np.max(stats['edge_counts'])} | 最小: {np.min(stats['edge_counts'])}\")\n",
    "    print(\"\\n✅ 完成\")\n",
    "\n",
    "\n",
    "if __name__ == \"__main__\":\n",
    "    stats = analyze_graphs(GRAPH_DIR)\n",
    "    summarize(stats)"
   ]
  },
  {
   "cell_type": "code",
   "execution_count": null,
   "metadata": {},
   "outputs": [],
   "source": []
  }
 ],
 "metadata": {
  "kernelspec": {
   "display_name": ".venv",
   "language": "python",
   "name": "python3"
  },
  "language_info": {
   "codemirror_mode": {
    "name": "ipython",
    "version": 3
   },
   "file_extension": ".py",
   "mimetype": "text/x-python",
   "name": "python",
   "nbconvert_exporter": "python",
   "pygments_lexer": "ipython3",
   "version": "3.11.11"
  }
 },
 "nbformat": 4,
 "nbformat_minor": 2
}
